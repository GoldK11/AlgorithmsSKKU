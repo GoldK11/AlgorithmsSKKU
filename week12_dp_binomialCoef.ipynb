{
  "nbformat": 4,
  "nbformat_minor": 0,
  "metadata": {
    "colab": {
      "name": "week12_dp_binomialCoef.ipynb",
      "provenance": [],
      "collapsed_sections": [],
      "include_colab_link": true
    },
    "kernelspec": {
      "name": "python3",
      "display_name": "Python 3"
    }
  },
  "cells": [
    {
      "cell_type": "markdown",
      "metadata": {
        "id": "view-in-github",
        "colab_type": "text"
      },
      "source": [
        "<a href=\"https://colab.research.google.com/github/GoldK11/AlgorithmsSKKU/blob/master/week12_dp_binomialCoef.ipynb\" target=\"_parent\"><img src=\"https://colab.research.google.com/assets/colab-badge.svg\" alt=\"Open In Colab\"/></a>"
      ]
    },
    {
      "cell_type": "code",
      "metadata": {
        "id": "tBiu9jViGIag",
        "colab": {
          "base_uri": "https://localhost:8080/",
          "height": 35
        },
        "outputId": "1dad2c39-8bb0-4e89-940b-5edc0af03428"
      },
      "source": [
        "def binomialCoef(n, k):\n",
        "\n",
        "    C = [[0 for x in range(k+1)] for x in range(n+1)]\n",
        "\n",
        "    # Complete the function for calculating the binomial coefficients\n",
        "\n",
        "    for i in range(n+1):\n",
        "        for j in range (min(k,i)+1):\n",
        "            if j == 0 or j == i:\n",
        "                C[i][j] = 1\n",
        "            else:\n",
        "                C[i][j] = C[i-1][j-1] + C[i-1][j]\n",
        "  \n",
        "    return C[n][k] \n",
        "\n",
        "binomialCoef(1000,10)"
      ],
      "execution_count": null,
      "outputs": [
        {
          "output_type": "execute_result",
          "data": {
            "text/plain": [
              "263409560461970212832400"
            ]
          },
          "metadata": {
            "tags": []
          },
          "execution_count": 4
        }
      ]
    },
    {
      "cell_type": "markdown",
      "metadata": {
        "id": "v00C6AOOSRM1"
      },
      "source": [
        "**Answer**"
      ]
    },
    {
      "cell_type": "code",
      "metadata": {
        "id": "qExdgQqiGbBh",
        "colab": {
          "base_uri": "https://localhost:8080/",
          "height": 35
        },
        "outputId": "9f21e6c9-a5a3-4fe1-8514-ef34cccac041"
      },
      "source": [
        "def binomialCoef(n, k): \n",
        "  C = [[0 for x in range(k+1)] for x in range(n+1)] \n",
        "  for i in range(n+1): \n",
        "    for j in range(min(i, k)+1): \n",
        "      if j == 0 or j == i: \n",
        "        C[i][j] = 1\n",
        "      else: \n",
        "        C[i][j] = C[i-1][j-1] + C[i-1][j] \n",
        "  return C[n][k] \n",
        "\n",
        "binomialCoef(1000,10)"
      ],
      "execution_count": null,
      "outputs": [
        {
          "output_type": "execute_result",
          "data": {
            "text/plain": [
              "263409560461970212832400"
            ]
          },
          "metadata": {
            "tags": []
          },
          "execution_count": 7
        }
      ]
    }
  ]
}