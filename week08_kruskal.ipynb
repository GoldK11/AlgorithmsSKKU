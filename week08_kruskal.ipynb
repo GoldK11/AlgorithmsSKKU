{
  "nbformat": 4,
  "nbformat_minor": 0,
  "metadata": {
    "colab": {
      "name": "week08_kruskal.ipynb",
      "provenance": [],
      "collapsed_sections": [],
      "include_colab_link": true
    },
    "kernelspec": {
      "name": "python3",
      "display_name": "Python 3"
    }
  },
  "cells": [
    {
      "cell_type": "markdown",
      "metadata": {
        "id": "view-in-github",
        "colab_type": "text"
      },
      "source": [
        "<a href=\"https://colab.research.google.com/github/GoldK11/AlgorithmsSKKU/blob/master/week08_kruskal.ipynb\" target=\"_parent\"><img src=\"https://colab.research.google.com/assets/colab-badge.svg\" alt=\"Open In Colab\"/></a>"
      ]
    },
    {
      "cell_type": "code",
      "metadata": {
        "id": "ill3peYQPtXa",
        "colab": {
          "base_uri": "https://localhost:8080/"
        },
        "outputId": "3b30b80c-5336-4487-877b-c94b96749ff3"
      },
      "source": [
        "parent={}\n",
        "rank={}\n",
        "\n",
        "def make_set(v):\n",
        "    parent[v]=v\n",
        "    rank[v]=0\n",
        "\n",
        "def find(v):\n",
        "    if parent[v]!=v:\n",
        "        parent[v]=find(parent[v])\n",
        "    return parent[v]\n",
        "\n",
        "def union(v,u):\n",
        "    root1=find(v)\n",
        "    root2=find(u)\n",
        "    if root1!=root2:\n",
        "        if rank[root1]>rank[root2]: parent[root2]=root1\n",
        "        else:\n",
        "            parent[root1]=root2\n",
        "            if rank[root1]== rank[root2]:\n",
        "                rank[root2] +=1\n",
        "\n",
        "def kruskal(graph):\n",
        "    for v in graph['vertices']:\n",
        "        make_set(v)\n",
        "    mst=[]\n",
        "    edges=graph['edges']\n",
        "    edges.sort()\n",
        "    for edge in edges:\n",
        "        weight,v,u=edge\n",
        "\n",
        "        if find(v) !=find(u):\n",
        "            union(v,u)\n",
        "            mst.append(edge)\n",
        "    return mst\n",
        "\n",
        "graph = {\n",
        "    'vertices': ['A', 'B', 'C', 'D', 'E', 'F', 'G'],\n",
        "    'edges': [\n",
        "    (7, 'A', 'B'),\n",
        "    (5, 'A', 'D'),\n",
        "    (7, 'B', 'A'),\n",
        "    (8, 'B', 'C'),\n",
        "    (9, 'B', 'D'),\n",
        "    (7, 'B', 'E'),\n",
        "    (8, 'C', 'B'),\n",
        "    (5, 'C', 'E'),\n",
        "    (5, 'D', 'A'),\n",
        "    (9, 'D', 'B'),\n",
        "    (7, 'D', 'E'),\n",
        "    (6, 'D', 'F'),\n",
        "    (7, 'E', 'B'),\n",
        "    (5, 'E', 'C'),\n",
        "    (15, 'E', 'D'),\n",
        "    (8, 'E', 'F'),\n",
        "    (9, 'E', 'G'),\n",
        "    (6, 'F', 'D'),\n",
        "    (8, 'F', 'E'),\n",
        "    (11, 'F', 'G'),\n",
        "    (9, 'G', 'E'),\n",
        "    (11, 'G', 'F'),\n",
        "    ]\n",
        "}\n",
        "\n",
        "print( kruskal(graph) )\n"
      ],
      "execution_count": 1,
      "outputs": [
        {
          "output_type": "stream",
          "text": [
            "[(5, 'A', 'D'), (5, 'C', 'E'), (6, 'D', 'F'), (7, 'A', 'B'), (7, 'B', 'E'), (9, 'E', 'G')]\n"
          ],
          "name": "stdout"
        }
      ]
    }
  ]
}