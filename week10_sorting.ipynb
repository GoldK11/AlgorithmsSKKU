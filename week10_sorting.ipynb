{
  "nbformat": 4,
  "nbformat_minor": 0,
  "metadata": {
    "colab": {
      "name": "week10_sorting.ipynb",
      "provenance": [],
      "collapsed_sections": [],
      "include_colab_link": true
    },
    "kernelspec": {
      "name": "python3",
      "display_name": "Python 3"
    }
  },
  "cells": [
    {
      "cell_type": "markdown",
      "metadata": {
        "id": "view-in-github",
        "colab_type": "text"
      },
      "source": [
        "<a href=\"https://colab.research.google.com/github/GoldK11/AlgorithmsSKKU/blob/master/week10_sorting.ipynb\" target=\"_parent\"><img src=\"https://colab.research.google.com/assets/colab-badge.svg\" alt=\"Open In Colab\"/></a>"
      ]
    },
    {
      "cell_type": "code",
      "metadata": {
        "id": "tUEm17VNoeuA"
      },
      "source": [
        "def selection_sort(arr):\n",
        "    n = len(arr)\n",
        "\n",
        "    for i in range(n-1):\n",
        "        least = i\n",
        "        # write your code :)\n",
        "\n",
        "    return arr\n",
        "\n",
        "def partition(arr, left, right):\n",
        "    pivot = arr[left] # make the first element as pivot \n",
        "    \n",
        "    # write your code :)\n",
        "\n",
        "    return # write your code :)\n",
        "\n",
        "def quick_sort(arr, left, right):\n",
        "    if left < right:\n",
        "        p = partition(arr, left, right)\n",
        "        quick_sort(arr, left, p-1) # sorts the left side of pivot \n",
        "        quick_sort(arr, p + 1, right) # sort the right side of pivot.\n",
        "\n",
        "    return arr\n",
        "\n",
        "def merge_sort(arr):\n",
        "    n = len(arr)\n",
        "\n",
        "    if n > 1:\n",
        "        # find the mid point\n",
        "        mid = n // 2\n",
        "        left = arr[:mid]\n",
        "        right = arr[mid:]\n",
        "\n",
        "        # sort the left and right part\n",
        "        merge_sort(left)\n",
        "        merge_sort(right)\n",
        "\n",
        "        # merge\n",
        "        # write your code :)\n",
        "\n",
        "    return arr"
      ],
      "execution_count": null,
      "outputs": []
    },
    {
      "cell_type": "markdown",
      "metadata": {
        "id": "iNwjM21ehXoe"
      },
      "source": [
        "**Answer**"
      ]
    },
    {
      "cell_type": "code",
      "metadata": {
        "id": "EFTCLEgVhZEa"
      },
      "source": [
        "def selection_sort(arr):\n",
        "    n = len(arr)\n",
        "\n",
        "    for i in range(n-1):\n",
        "        least = i\n",
        "        for j in range (i+1,n):\n",
        "          if(arr[j]<arr[least]):\n",
        "            least = j\n",
        "        arr[i],arr[least] = arr[least],arr[i]\n",
        "        \n",
        "    return arr\n",
        "\n",
        "def partition(arr, left, right):\n",
        "    pivot = arr[left] # make the first element as pivot \n",
        "    start = left\n",
        "    while start<=right: # start가 끝점(right)보다 크면 종료\n",
        "      while start<=right and arr[start]<=pivot: #pivot보다 큰 애 나올때까지 오른쪽 이동\n",
        "        start+=1\n",
        "      while start<=right and arr[right]>=pivot: #pivot보다 작은 애 나올때까지 왼쪽 이동\n",
        "        right-=1\n",
        "\n",
        "      if(start<=right): #바꿔치기 하기 전 start>right로 while문이 종료된건지 확인 >그럴경우 바꿔치기 안함\n",
        "        arr[start],arr[right] = arr[right],arr[start]\n",
        "        start+=1\n",
        "        right-=1\n",
        "\n",
        "    arr[left],arr[right] = arr[right],arr[left] #pivot위치 바꿔치기\n",
        "    \n",
        "    return right\n",
        "    \n",
        "def quick_sort(arr, left, right):\n",
        "    if left < right:\n",
        "        p = partition(arr, left, right)\n",
        "        quick_sort(arr, left, p-1) # sorts the left side of pivot \n",
        "        quick_sort(arr, p + 1, right) # sort the right side of pivot.\n",
        "\n",
        "    return arr\n",
        "\n",
        "def merge_sort(arr):\n",
        "    n = len(arr)\n",
        "\n",
        "    if n > 1:\n",
        "        # find the mid point\n",
        "        mid = n // 2\n",
        "        left = arr[:mid]\n",
        "        right = arr[mid:]\n",
        "\n",
        "        # sort the left and right part\n",
        "        merge_sort(left)\n",
        "        merge_sort(right)\n",
        "\n",
        "\n",
        "        # merge\n",
        "        i =0\n",
        "        j =0\n",
        "        k = 0\n",
        "        while i<len(left) and j<len(right):\n",
        "          if left[i] <right[j]:\n",
        "            arr[k] = left[i]\n",
        "            i+=1\n",
        "          else:\n",
        "            arr[k] = right[j]\n",
        "            j+=1\n",
        "          k+=1\n",
        "\n",
        "        while i<len(left):\n",
        "          arr[k]=left[i]\n",
        "          i+=1\n",
        "          k+=1\n",
        "        while j<len(right):\n",
        "          arr[k]=right[j]\n",
        "          j+=1\n",
        "          k+=1\n",
        "\n",
        "       \n",
        "\n",
        "    return arr"
      ],
      "execution_count": null,
      "outputs": []
    },
    {
      "cell_type": "code",
      "metadata": {
        "id": "WpTD2ycQohZf",
        "colab": {
          "base_uri": "https://localhost:8080/"
        },
        "outputId": "e159c8c2-ff32-40a0-c4e1-6cf58deb069e"
      },
      "source": [
        "# 2-1.  Implement (a) selection sorting (b) quick sorting and (c) merge sorting\n",
        "def main():\n",
        "    arr = [5, 3, 8, 4, 9 , 1, 6, 2, 7]\n",
        "    print(\"selection sort\", selection_sort(arr))\n",
        "    arr = [5, 3, 8, 4, 9 , 1, 6, 2, 7]\n",
        "    print(\"quick sort\", quick_sort(arr, left = 0 , right = len(arr) - 1))\n",
        "    arr = [38, 27, 43, 3, 9, 82, 10]\n",
        "    print(\"merge sort\", merge_sort(arr))\n",
        "    \n",
        "main()"
      ],
      "execution_count": null,
      "outputs": [
        {
          "output_type": "stream",
          "text": [
            "selection sort [1, 2, 3, 4, 5, 6, 7, 8, 9]\n",
            "quick sort [1, 2, 3, 4, 5, 6, 7, 8, 9]\n",
            "merge sort [3, 9, 10, 27, 38, 43, 82]\n"
          ],
          "name": "stdout"
        }
      ]
    },
    {
      "cell_type": "code",
      "metadata": {
        "id": "IEXJThh6ojIg"
      },
      "source": [
        "# 2-2 Compare the three sorting algorithm running time\n",
        "from random import randint, seed, sample\n",
        "from timeit import timeit\n",
        "def get_arr(count): \n",
        "    # this function wil be return ramdomly generated array\n",
        "    seed(1113) # if you set up random seed, then you can get the same sequence of numbers\n",
        "    arr = [randint(0, 9999) for _ in range(count)]\n",
        "    return sample(arr, count)\n",
        "\n",
        "count = 500 # write the size of array"
      ],
      "execution_count": null,
      "outputs": []
    },
    {
      "cell_type": "code",
      "metadata": {
        "id": "RLt4sv2dokp0",
        "colab": {
          "base_uri": "https://localhost:8080/"
        },
        "outputId": "540d4169-aded-4f02-eb76-693c0817473a"
      },
      "source": [
        "arr = get_arr(count)\n",
        "% timeit -n 1 selection_sort(arr)"
      ],
      "execution_count": null,
      "outputs": [
        {
          "output_type": "stream",
          "text": [
            "1 loop, best of 3: 9.35 ms per loop\n"
          ],
          "name": "stdout"
        }
      ]
    },
    {
      "cell_type": "code",
      "metadata": {
        "id": "WpEaS9cuok0Q",
        "colab": {
          "base_uri": "https://localhost:8080/"
        },
        "outputId": "2312b1a4-68c7-454b-ccfc-e799b1c02186"
      },
      "source": [
        "arr = get_arr(count)\n",
        "% timeit -n 1 quick_sort(arr, left = 0 , right = len(arr)-1)"
      ],
      "execution_count": null,
      "outputs": [
        {
          "output_type": "stream",
          "text": [
            "The slowest run took 8.04 times longer than the fastest. This could mean that an intermediate result is being cached.\n",
            "1 loop, best of 3: 1.54 ms per loop\n"
          ],
          "name": "stdout"
        }
      ]
    },
    {
      "cell_type": "code",
      "metadata": {
        "id": "VCPiEE5uok-e",
        "colab": {
          "base_uri": "https://localhost:8080/"
        },
        "outputId": "7444d78d-c914-4f95-d3b3-d1bfdc8aa0b8"
      },
      "source": [
        "arr = get_arr(count)\n",
        "% timeit -n 1 merge_sort(arr)"
      ],
      "execution_count": null,
      "outputs": [
        {
          "output_type": "stream",
          "text": [
            "1 loop, best of 3: 1.18 ms per loop\n"
          ],
          "name": "stdout"
        }
      ]
    },
    {
      "cell_type": "code",
      "metadata": {
        "id": "OQfelCQnr9rl"
      },
      "source": [
        "# write the result :)\n",
        "# running time XXXX sort > XXXX sort > XXXX sort\n",
        "# 가끔 merge sort가 quick sort보다 더 빠르게 나오기도 함... "
      ],
      "execution_count": null,
      "outputs": []
    }
  ]
}