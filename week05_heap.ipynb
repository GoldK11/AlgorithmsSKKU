{
  "nbformat": 4,
  "nbformat_minor": 0,
  "metadata": {
    "colab": {
      "name": "week05_heap.ipynb",
      "provenance": [],
      "collapsed_sections": [],
      "include_colab_link": true
    },
    "kernelspec": {
      "name": "python3",
      "display_name": "Python 3"
    }
  },
  "cells": [
    {
      "cell_type": "markdown",
      "metadata": {
        "id": "view-in-github",
        "colab_type": "text"
      },
      "source": [
        "<a href=\"https://colab.research.google.com/github/GoldK11/AlgorithmsSKKU/blob/master/week05_heap.ipynb\" target=\"_parent\"><img src=\"https://colab.research.google.com/assets/colab-badge.svg\" alt=\"Open In Colab\"/></a>"
      ]
    },
    {
      "cell_type": "code",
      "metadata": {
        "id": "EDMe_2RQWAYE",
        "colab": {
          "base_uri": "https://localhost:8080/",
          "height": 71
        },
        "outputId": "a366c70a-43ca-4674-d4a0-c0f8d2d0369a"
      },
      "source": [
        "class MaxHeap:\n",
        "    \n",
        "    def __init__(self):\n",
        "        self.queue = [None]\n",
        "    \n",
        "    def insert(self, value):\n",
        "        ## Insert a new value into heap \n",
        "        \"\"\"\n",
        "        Input:  value\n",
        "        Output: None\n",
        "        \"\"\"\n",
        "        self.queue.append(value)\n",
        "            \n",
        "       \n",
        "        i = len(self.queue)-1\n",
        "        pi = int(i/2) if i%2==0 else int((i-1)/2)\n",
        "        \n",
        "        item = self.queue[i]\n",
        "        target = self.queue[pi]\n",
        "\n",
        "        while i!=1 and item>target:\n",
        "          self.queue[i],self.queue[pi] = self.queue[pi],self.queue[i]\n",
        "          i = pi\n",
        "          pi = int(i/2) if i%2==0 else int((i-1)/2)        \n",
        "          item = self.queue[i]\n",
        "          target = self.queue[pi]\n",
        "          \n",
        "\n",
        "        \n",
        "    def delete(self):\n",
        "        ## Delete root node\n",
        "        \"\"\"\n",
        "        Input:  None\n",
        "        Output: if heap is empty print('Heap is empty')\n",
        "                return deleted value\n",
        "        \"\"\"\n",
        "        if len(self.queue) == 1:\n",
        "            print(\"Heap is empty\")\n",
        "            return\n",
        "        \n",
        "        item = self.queue[1]\n",
        "        self.queue[1] = self.queue[len(self.queue)-1]\n",
        "        self.queue[len(self.queue)-1]= item\n",
        "        \n",
        "        self.queue.pop()\n",
        "        \n",
        "        i = 1\n",
        "        while i <= len(self.queue)-1:\n",
        "            # -------------Fill in the blank\n",
        "            # HINT- left = i*2\n",
        "            #     - right = i*2 + 1\n",
        "            largest = i*2 if i*2+1>len(self.queue)-1 or self.queue[i*2]>self.queue[i*2+1] else i*2+1\n",
        "            if self.queue[i] > self.queue[largest]:\n",
        "              break;\n",
        "            self.queue[i],self.queue[largest] = self.queue[largest],self.queue[i]\n",
        "            i = largest\n",
        "              \n",
        "            \n",
        "\n",
        "\n",
        "        return item\n",
        "\n",
        "def main():\n",
        "\n",
        "    maxheap = MaxHeap()\n",
        "    \n",
        "    maxheap.insert(5)\n",
        "    maxheap.insert(7)\n",
        "    maxheap.insert(6)\n",
        "    maxheap.insert(9)\n",
        "    maxheap.insert(2)\n",
        "    print(maxheap.queue)\n",
        "    maxheap.insert(4)\n",
        "    maxheap.insert(3)\n",
        "    maxheap.insert(2)\n",
        "    maxheap.insert(8)\n",
        "    print(maxheap.queue)\n",
        "    \n",
        "    maxheap.delete()\n",
        "    print(maxheap.queue)\n",
        "    \n",
        "main()\n"
      ],
      "execution_count": null,
      "outputs": [
        {
          "output_type": "stream",
          "text": [
            "[None, 9, 7, 6, 5, 2]\n",
            "[None, 9, 8, 6, 7, 2, 4, 3, 2, 5]\n",
            "[None, 8, 7, 6, 5, 2, 4, 3, 2]\n"
          ],
          "name": "stdout"
        }
      ]
    },
    {
      "cell_type": "markdown",
      "metadata": {
        "id": "XC53At-bRH3w"
      },
      "source": [
        "# Answer"
      ]
    },
    {
      "cell_type": "code",
      "metadata": {
        "id": "iQT6_sh5rEsQ",
        "colab": {
          "base_uri": "https://localhost:8080/"
        },
        "outputId": "904818d3-aa2b-4f5f-8bdc-ffbaa7a40a6b"
      },
      "source": [
        "class MaxHeap:\n",
        "    \n",
        "    def __init__(self):\n",
        "        self.queue = [None]\n",
        "    \n",
        "    def insert(self, value):\n",
        "        ## Insert a new value into heap  \n",
        "        \"\"\"\n",
        "        Input:  value\n",
        "        Output: None\n",
        "        \"\"\"   \n",
        "        self.queue.append(value)\n",
        "        \n",
        "        i = len(self.queue)-1\n",
        "        while i>1:\n",
        "            parent = i // 2\n",
        "            if self.queue[i] > self.queue[parent]:\n",
        "                tmp = self.queue[i]\n",
        "                self.queue[i] = self.queue[parent]\n",
        "                self.queue[parent] = tmp\n",
        "                i = parent\n",
        "            else:\n",
        "                break\n",
        "                \n",
        "    def delete(self):\n",
        "        ## Delete root node\n",
        "        \"\"\"\n",
        "        Input:  None\n",
        "        Output: if heap is empty print('Heap is empty')\n",
        "        \"\"\" \n",
        "        if len(self.queue) == 1:\n",
        "            print(\"Heap is empty\")\n",
        "            return\n",
        "        \n",
        "        item = self.queue[1]\n",
        "        self.queue[1] = self.queue[len(self.queue)-1]\n",
        "        self.queue[len(self.queue)-1]= item\n",
        "        \n",
        "        self.queue.pop()\n",
        "        \n",
        "        i = 1\n",
        "        while i <= len(self.queue)-1:\n",
        "            \n",
        "            left = i*2\n",
        "            right = i*2 + 1\n",
        "            largest = i\n",
        "\n",
        "            if left <= len(self.queue)-1 and self.queue[left] > self.queue[largest]:\n",
        "                largest = left\n",
        "            \n",
        "            if right <= len(self.queue)-1 and self.queue[right] > self.queue[largest]:\n",
        "                largest = right\n",
        "            \n",
        "            if largest != i:\n",
        "                tmp = self.queue[i]\n",
        "                self.queue[i] = self.queue[largest]\n",
        "                self.queue[largest] = tmp\n",
        "                i = largest\n",
        "            else:\n",
        "                break\n",
        "        \n",
        "        return item\n",
        "    \n",
        "def main():\n",
        "\n",
        "    maxheap = MaxHeap()\n",
        "    \n",
        "    maxheap.insert(5)\n",
        "    maxheap.insert(7)\n",
        "    maxheap.insert(6)\n",
        "    maxheap.insert(9)\n",
        "    maxheap.insert(2)\n",
        "    print(maxheap.queue)\n",
        "    maxheap.insert(4)\n",
        "    maxheap.insert(3)\n",
        "    maxheap.insert(2)\n",
        "    maxheap.insert(8)\n",
        "    print(maxheap.queue)\n",
        "    \n",
        "    maxheap.delete()\n",
        "    print(maxheap.queue)\n",
        "    \n",
        "main()\n"
      ],
      "execution_count": 1,
      "outputs": [
        {
          "output_type": "stream",
          "text": [
            "[None, 9, 7, 6, 5, 2]\n",
            "[None, 9, 8, 6, 7, 2, 4, 3, 2, 5]\n",
            "[None, 8, 7, 6, 5, 2, 4, 3, 2]\n"
          ],
          "name": "stdout"
        }
      ]
    }
  ]
}