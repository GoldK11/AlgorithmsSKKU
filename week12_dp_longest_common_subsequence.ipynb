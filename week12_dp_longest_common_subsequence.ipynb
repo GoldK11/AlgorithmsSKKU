{
  "nbformat": 4,
  "nbformat_minor": 0,
  "metadata": {
    "colab": {
      "name": "week12_dp_longest_common_subsequence.ipynb",
      "provenance": [],
      "collapsed_sections": [],
      "include_colab_link": true
    },
    "kernelspec": {
      "name": "python3",
      "display_name": "Python 3"
    }
  },
  "cells": [
    {
      "cell_type": "markdown",
      "metadata": {
        "id": "view-in-github",
        "colab_type": "text"
      },
      "source": [
        "<a href=\"https://colab.research.google.com/github/GoldK11/AlgorithmsSKKU/blob/master/week12_dp_longest_common_subsequence.ipynb\" target=\"_parent\"><img src=\"https://colab.research.google.com/assets/colab-badge.svg\" alt=\"Open In Colab\"/></a>"
      ]
    },
    {
      "cell_type": "code",
      "metadata": {
        "id": "0isYg_VbPkCQ",
        "colab": {
          "base_uri": "https://localhost:8080/",
          "height": 179
        },
        "outputId": "262fc1bf-ab7b-4539-922d-b2ecba4616c7"
      },
      "source": [
        "A = \"ACAYKP\"\n",
        "B = \"CAPCAK\"\n",
        "lcs = [[0 for i in range(len(A)+1)] for j in range(len(B)+1)]\n",
        "for i in range(1, len(A)+1):\n",
        "    for j in range(1,len(B)+1):\n",
        "        if A[i-1]==B[j-1]:\n",
        "            lcs[i][j]=lcs[i-1][j-1]+1\n",
        "        else:\n",
        "            lcs[i][j]=max(lcs[i][j-1],lcs[i-1][j])\n",
        "\n",
        "\n",
        "for i in range(len(A)+1):\n",
        "    print()\n",
        "    for j in range(len(B)+1):\n",
        "        print(lcs[i][j],end=\" \")\n",
        "print()\n",
        "\n",
        "print(\"answer is\", lcs[len(A)][len(B)])\n"
      ],
      "execution_count": null,
      "outputs": [
        {
          "output_type": "stream",
          "text": [
            "\n",
            "0 0 0 0 0 0 0 \n",
            "0 0 1 1 1 1 1 \n",
            "0 1 1 1 2 2 2 \n",
            "0 1 2 2 2 3 3 \n",
            "0 1 2 2 2 3 3 \n",
            "0 1 2 2 2 3 4 \n",
            "0 1 2 3 3 3 4 \n",
            "answer is 4\n"
          ],
          "name": "stdout"
        }
      ]
    }
  ]
}