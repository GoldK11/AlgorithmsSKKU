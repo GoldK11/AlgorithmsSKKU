{
  "nbformat": 4,
  "nbformat_minor": 0,
  "metadata": {
    "colab": {
      "name": "week09_dijkstra_shortestPath.ipynb",
      "provenance": [],
      "collapsed_sections": [],
      "include_colab_link": true
    },
    "kernelspec": {
      "name": "python3",
      "display_name": "Python 3"
    }
  },
  "cells": [
    {
      "cell_type": "markdown",
      "metadata": {
        "id": "view-in-github",
        "colab_type": "text"
      },
      "source": [
        "<a href=\"https://colab.research.google.com/github/GoldK11/AlgorithmsSKKU/blob/master/week09_dijkstra_shortestPath.ipynb\" target=\"_parent\"><img src=\"https://colab.research.google.com/assets/colab-badge.svg\" alt=\"Open In Colab\"/></a>"
      ]
    },
    {
      "cell_type": "code",
      "metadata": {
        "id": "8Qx4jKxtixQH",
        "colab": {
          "base_uri": "https://localhost:8080/",
          "height": 125
        },
        "outputId": "ba4a3baa-90d1-4d95-b882-dcd19c4d4cdb"
      },
      "source": [
        "\n",
        "def dijkstra(start, size, weight):\n",
        "    # Step 1: initialize distance and visited array\n",
        "    distance = weight[start] \n",
        "    visited = [False] * size\n",
        "    visited[start] = True # mark start vertex as being visited\n",
        "  \n",
        "    for i in range (size-2):\n",
        "      min = float(\"inf\")\n",
        "      for i in range(size):\n",
        "        if(not visited[i]) and (distance[i]<min):\n",
        "          min = distance[i]\n",
        "          current = i\n",
        "      visited[current] = True\n",
        "      for j in range(6):\n",
        "        if not visited[j]:\n",
        "          if distance[current]+weight[current][j]<distance[j]:\n",
        "            distance[j] =distance[current]+weight[current][j]\n",
        "\n",
        "\n",
        "    # Step 2: repeat loop until all vertices are visited\n",
        "    # Step 3: check each vertex for having shortest path\n",
        "    # Step 4: for each vertex not in visited array, update its shortest path\n",
        "    \n",
        "    # Write your code\n",
        "        \n",
        "    return distance\n",
        "\n",
        "def main():\n",
        "    size = 6\n",
        "\n",
        "    weight = [\n",
        "            [0, 2, 5, 1, float('inf'), float('inf')],\n",
        "            [2, 0, 3, 2, float('inf'), float('inf')],\n",
        "            [5, 3, 0, 3, 1, 5],\n",
        "            [1, 2, 3, 0, 1, float('inf')],\n",
        "            [float('inf'), float('inf'), 1, 1, 0, 2],\n",
        "            [float('inf'), float('inf'), 5, float('inf'), 2, 0]\n",
        "    ]\n",
        "\n",
        "    for i in range(size):\n",
        "        distance = dijkstra(i, size, weight)\n",
        "        print(\"source = {}\".format(i), distance)\n",
        "    \n",
        "    \"\"\"\n",
        "    source = 0 [0, 2, 3, 1, 2, 4]\n",
        "    source = 1 [2, 0, 3, 2, 3, 5]\n",
        "    source = 2 [3, 3, 0, 2, 1, 3]\n",
        "    source = 3 [1, 2, 2, 0, 1, 3]\n",
        "    source = 4 [2, 3, 1, 1, 0, 2]\n",
        "    source = 5 [4, 5, 3, 3, 2, 0]\n",
        "\n",
        "\n",
        "    \"\"\"\n",
        "\n",
        "main()"
      ],
      "execution_count": null,
      "outputs": [
        {
          "output_type": "stream",
          "text": [
            "source = 0 [0, 2, 3, 1, 2, 4]\n",
            "source = 1 [2, 0, 3, 2, 3, 5]\n",
            "source = 2 [3, 3, 0, 2, 1, 3]\n",
            "source = 3 [1, 2, 2, 0, 1, 3]\n",
            "source = 4 [2, 3, 1, 1, 0, 2]\n",
            "source = 5 [4, 5, 3, 3, 2, 0]\n"
          ],
          "name": "stdout"
        }
      ]
    },
    {
      "cell_type": "markdown",
      "metadata": {
        "id": "yveejchQW8tF"
      },
      "source": [
        "**answer**"
      ]
    },
    {
      "cell_type": "code",
      "metadata": {
        "id": "ZHs9A68EW74N",
        "colab": {
          "base_uri": "https://localhost:8080/",
          "height": 125
        },
        "outputId": "682630e3-17b4-4efa-b04a-2caba47e6812"
      },
      "source": [
        "def dijkstra(start, size, weight):\n",
        "    # Step 1: initialize distance and visited array\n",
        "    distance = weight[start] \n",
        "    visited = [False] * size\n",
        "    visited[start] = True # mark start vertex as being visited\n",
        "\n",
        "    # Step 2: repeat loop until all vertices are visited\n",
        "    while False in visited:\n",
        "        # Step 3: check each vertex for having shortest path\n",
        "        min_dist = float('inf')\n",
        "        min_pos = -1\n",
        "\n",
        "        for j in range(size):\n",
        "            if (visited[j] is False) and (distance[j] < min_dist):\n",
        "                min_dist = distance[j]\n",
        "                min_pos = j\n",
        "        # print(distance)\n",
        "        # print(min_pos)\n",
        "        visited[min_pos] = True # mark the minimal distance vertex as being visited\n",
        "        \n",
        "        # Step 4: for each vertex not in visited array, update its shortest path\n",
        "        for k in range(size): \n",
        "            if visited[k] is False:\n",
        "                if (distance[min_pos] + weight[min_pos][k]) < distance[k]:\n",
        "                    distance[k] = distance[min_pos] + weight[min_pos][k]\n",
        "     \n",
        "    return distance\n",
        "\n",
        "def main():\n",
        "    size = 6\n",
        "\n",
        "    weight = [\n",
        "            [0, 2, 5, 1, float('inf'), float('inf')],\n",
        "            [2, 0, 3, 2, float('inf'), float('inf')],\n",
        "            [5, 3, 0, 3, 1, 5],\n",
        "            [1, 2, 3, 0, 1, float('inf')],\n",
        "            [float('inf'), float('inf'), 1, 1, 0, 2],\n",
        "            [float('inf'), float('inf'), 5, float('inf'), 2, 0]\n",
        "    ]\n",
        "\n",
        "    for i in range(size):\n",
        "        distance = dijkstra(i, size, weight)\n",
        "        print(\"source = {}\".format(i), distance)\n",
        "    \n",
        "    \"\"\"\n",
        "    source = 0 [0, 2, 3, 1, 2, 4]\n",
        "    source = 1 [2, 0, 3, 2, 3, 5]\n",
        "    source = 2 [3, 3, 0, 2, 1, 3]\n",
        "    source = 3 [1, 2, 2, 0, 1, 3]\n",
        "    source = 4 [2, 3, 1, 1, 0, 2]\n",
        "    source = 5 [4, 5, 3, 3, 2, 0]\n",
        "    \"\"\"\n",
        "\n",
        "main()"
      ],
      "execution_count": null,
      "outputs": [
        {
          "output_type": "stream",
          "text": [
            "source = 0 [0, 2, 3, 1, 2, 4]\n",
            "source = 1 [2, 0, 3, 2, 3, 5]\n",
            "source = 2 [3, 3, 0, 2, 1, 3]\n",
            "source = 3 [1, 2, 2, 0, 1, 3]\n",
            "source = 4 [2, 3, 1, 1, 0, 2]\n",
            "source = 5 [4, 5, 3, 3, 2, 0]\n"
          ],
          "name": "stdout"
        }
      ]
    }
  ]
}