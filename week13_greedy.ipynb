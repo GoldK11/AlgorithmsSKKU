{
  "nbformat": 4,
  "nbformat_minor": 0,
  "metadata": {
    "colab": {
      "name": "week13_greedy.ipynb",
      "provenance": [],
      "collapsed_sections": [],
      "include_colab_link": true
    },
    "kernelspec": {
      "name": "python3",
      "display_name": "Python 3"
    }
  },
  "cells": [
    {
      "cell_type": "markdown",
      "metadata": {
        "id": "view-in-github",
        "colab_type": "text"
      },
      "source": [
        "<a href=\"https://colab.research.google.com/github/GoldK11/AlgorithmsSKKU/blob/master/week13_greedy.ipynb\" target=\"_parent\"><img src=\"https://colab.research.google.com/assets/colab-badge.svg\" alt=\"Open In Colab\"/></a>"
      ]
    },
    {
      "cell_type": "code",
      "metadata": {
        "id": "o0yZn4Y6gEuz",
        "colab": {
          "base_uri": "https://localhost:8080/",
          "height": 53
        },
        "outputId": "b9f1693d-bf41-40de-bf28-0edbc790cedf"
      },
      "source": [
        "# input\n",
        "n=10\n",
        "ci = [4,2,2,1,10,10,9,10,3,8]\n",
        "di = [4,1,8,2, 5, 3,5, 1,7,4]\n",
        "\n",
        "# n = 5 # the number of dungeons\n",
        "# ci = [7, 8, 10, 20, 4] # coin\n",
        "# di = [4, 1, 3, 3, 2] # deadline\n",
        "\n",
        "def hunter_scheduling(n, ci, di):\n",
        "  cumsum = 0 # the maximum numbers of coins if a gamer clear dungeons optimally\n",
        "  queue = []\n",
        "  for i in range(n,0,-1):  \n",
        "    for idx, val in enumerate(di):\n",
        "      if val >= i:\n",
        "        if(ci[idx]):\n",
        "          queue.append(ci[idx])\n",
        "          ci[idx] = None\n",
        "    if(queue):\n",
        "      mx =  max(queue)\n",
        "      cumsum+=mx\n",
        "      queue.remove(mx)\n",
        "  return cumsum\n",
        "\n",
        "# output\n",
        "cumsum = hunter_scheduling(n, ci, di)\n",
        "\n",
        "print(\"Accepted Output\", 52)\n",
        "print(\"My Result\", cumsum)\n"
      ],
      "execution_count": null,
      "outputs": [
        {
          "output_type": "stream",
          "text": [
            "Accepted Output 52\n",
            "My Result 52\n"
          ],
          "name": "stdout"
        }
      ]
    },
    {
      "cell_type": "markdown",
      "metadata": {
        "id": "3BNbD4dAY2y3"
      },
      "source": [
        "**answer**"
      ]
    },
    {
      "cell_type": "code",
      "metadata": {
        "id": "9ZJEJFpFCFS6",
        "colab": {
          "base_uri": "https://localhost:8080/"
        },
        "outputId": "4bbacfda-8acb-4423-c74a-9dbb76bd4442"
      },
      "source": [
        "# input\n",
        "\"\"\"\n",
        "n = 5 # the number of dungeons\n",
        "ci = [7, 8, 10, 20, 4] # coin\n",
        "di = [4, 1, 3, 3, 2] # deadline\n",
        "\"\"\"\n",
        "n = int(input())\n",
        "data = [None] * n\n",
        "for i in range(n):\n",
        "    c, d = input().split(' ')\n",
        "    data[i] = [int(c),int(d)]\n",
        "\n",
        "def hunter_scheduling(n, data):\n",
        "    \"\"\"\n",
        "    input:\n",
        "        add arguments whatever you want\n",
        "    :return: int\n",
        "        the maximum numbers of coins if a gamer clear dungeons optimally\n",
        "    \"\"\"\n",
        "    cumsum = 0 # the maximum numbers of coins if a gamer clear dungeons optimally\n",
        "\n",
        "    #data = zip(ci, di)\n",
        "    data = sorted(data, key=lambda x: x[1])\n",
        "\n",
        "    pq = []\n",
        "    ix = n - 1\n",
        "\n",
        "    for t in range(n, 0, -1):\n",
        "        while ix >= 0 and t <= data[ix][1]:  # compare deadline_i and time\n",
        "            pq.append(data[ix][0])  # push coin_i\n",
        "            ix -= 1\n",
        "\n",
        "        if len(pq) != 0:\n",
        "            pq.sort()\n",
        "            max_c = pq.pop(-1)\n",
        "            cumsum += max_c\n",
        "\n",
        "    return cumsum\n",
        "\n",
        "# output\n",
        "cumsum = hunter_scheduling(n, data)\n",
        "\n",
        "print(\"Accepted Output\", 45)\n",
        "print(\"My Result\", cumsum)\n",
        "\n",
        "# n=10\n",
        "# ci = [4,2,2,1,10,10,9,10,3,8]\n",
        "# di = [4,1,8,2, 5, 3,5, 1,7,4]\n",
        "# print(\"Accepted Output\", 52)\n",
        "# print(\"My Result\", cumsum)\n"
      ],
      "execution_count": 8,
      "outputs": [
        {
          "output_type": "stream",
          "text": [
            "5\n",
            "7 4\n",
            "8 1\n",
            "10 3\n",
            "20 3\n",
            "4 2\n",
            "Accepted Output 45\n",
            "My Result 45\n"
          ],
          "name": "stdout"
        }
      ]
    }
  ]
}