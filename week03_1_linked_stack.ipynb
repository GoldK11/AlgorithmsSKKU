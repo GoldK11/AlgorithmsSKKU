{
  "nbformat": 4,
  "nbformat_minor": 0,
  "metadata": {
    "colab": {
      "name": "week03_1_linked_stack.ipynb",
      "provenance": [],
      "collapsed_sections": [],
      "include_colab_link": true
    },
    "kernelspec": {
      "name": "python3",
      "display_name": "Python 3"
    },
    "accelerator": "GPU"
  },
  "cells": [
    {
      "cell_type": "markdown",
      "metadata": {
        "id": "view-in-github",
        "colab_type": "text"
      },
      "source": [
        "<a href=\"https://colab.research.google.com/github/GoldK11/AlgorithmsSKKU/blob/master/week03_1_linked_stack.ipynb\" target=\"_parent\"><img src=\"https://colab.research.google.com/assets/colab-badge.svg\" alt=\"Open In Colab\"/></a>"
      ]
    },
    {
      "cell_type": "code",
      "metadata": {
        "id": "3RZ6Nr7xpZml"
      },
      "source": [
        "class StackNode:\n",
        "    \n",
        "    def __init__(self, item):\n",
        "        self.item = item\n",
        "        self.next = None\n",
        "\n",
        "        \n"
      ],
      "execution_count": null,
      "outputs": []
    },
    {
      "cell_type": "code",
      "metadata": {
        "id": "IyxTzqyR7beh",
        "colab": {
          "base_uri": "https://localhost:8080/",
          "height": 143
        },
        "outputId": "b20f705b-fca2-4fea-d681-ce5df46ee39c"
      },
      "source": [
        "class Stack:\n",
        "    \n",
        "    def __init__(self):\n",
        "        self.top = None\n",
        "\n",
        "    def is_empty(self):\n",
        "        ## Check if stack is empty\n",
        "        \"\"\"\n",
        "        Input:  None\n",
        "        Output: return True if stack is empty\n",
        "                return False if stack is full\n",
        "        \"\"\"\n",
        "        if not self.top :\n",
        "            return True\n",
        "        else:\n",
        "            return False\n",
        "              \n",
        "    def push(self, item):\n",
        "        ## Insert an element at the top of the stack\n",
        "        \"\"\"\n",
        "        Input:  item\n",
        "        Output: None\n",
        "        \"\"\"\n",
        "        if self.is_empty() :\n",
        "            self.top = StackNode(item)\n",
        "        else:\n",
        "            new_node = StackNode(item)\n",
        "            new_node.next = self.top\n",
        "            self.top = new_node\n",
        "        \n",
        "        \n",
        "    def pop(self):\n",
        "        ## Remove the element from the stack\n",
        "        \"\"\"\n",
        "        Input:  None\n",
        "        Output: print(\"Cannot Remove Empty Stack !\") if stack is empty\n",
        "        Examples:\n",
        "            [\"ElementA\",\"ElementB\"]\n",
        "            >>> pop()\n",
        "            [\"ElementA\"]\n",
        "            >>> pop()\n",
        "            >>> pop()\n",
        "            Cannot Remove Empty Stack !\n",
        "        \"\"\"\n",
        "        if self.is_empty():\n",
        "            print(\"Cannot Remove Empty Stack !\")\n",
        "        else:\n",
        "            popped_node = self.top\n",
        "            self.top = self.top.next\n",
        "            return popped_node.item\n",
        "          \n",
        "    def peek(self):\n",
        "        ## Completed Funtion - DO NOT REMOVE\n",
        "        ## Retrieve the first element of the stack\n",
        "        \"\"\"\n",
        "        Input:  None\n",
        "        Output: print(\"No element Empty Stack !\") if stack is empty\n",
        "                return the first element of the stack\n",
        "        \"\"\"\n",
        "        if self.is_empty():\n",
        "            print(\"No element Empty Stack !\") \n",
        "        else:\n",
        "            return self.top.item\n",
        "    \n",
        "    def display(self):\n",
        "        ## Completed Funtion - DO NOT REMOVE\n",
        "        ## Display value(s) of the stack\n",
        "        if self.is_empty():\n",
        "            print(\"Empty Stack !\")\n",
        "        else:\n",
        "            cursor = self.top\n",
        "            nodes = []\n",
        "            while cursor:\n",
        "                nodes.append(cursor.item)\n",
        "                cursor = cursor.next\n",
        "              \n",
        "            print(\"Stack Values> \", ' -> '.join(nodes))\n",
        "        \n",
        "        \n",
        "def main():\n",
        "    stack = Stack()\n",
        "\n",
        "    stack.push(\"Hello\")\n",
        "    stack.display()  # Expected Result: Stack Values>  Hello\n",
        "    stack.push(\"Stack\")\n",
        "    stack.push(\"Last-In First-Out\")\n",
        "    stack.display() # Expected Result: Stack Values>  Last-In First-Out -> Stack -> Hello\n",
        "\n",
        "    print(\"function peek():\",stack.peek()) # Expected Result: function peek(): Last-In First-Out\n",
        "    \n",
        "    stack.pop()\n",
        "    stack.pop()\n",
        "    stack.display() # Expected Result: Stack Values>  Hello\n",
        "\n",
        "    stack.pop()\n",
        "    stack.display() # Expected Result: Empty Stack !\n",
        "    stack.peek() # Expected Result: No element Empty Stack !\n",
        "    stack.pop() # Expected Result: Cannot Remove Empty Stack !\n",
        "    \n",
        "main()"
      ],
      "execution_count": null,
      "outputs": [
        {
          "output_type": "stream",
          "text": [
            "Stack Values>  Hello\n",
            "Stack Values>  Last-In First-Out -> Stack -> Hello\n",
            "function peek(): Last-In First-Out\n",
            "Stack Values>  Hello\n",
            "Empty Stack !\n",
            "No element Empty Stack !\n",
            "Cannot Remove Empty Stack !\n"
          ],
          "name": "stdout"
        }
      ]
    }
  ]
}