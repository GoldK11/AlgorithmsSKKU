{
  "nbformat": 4,
  "nbformat_minor": 0,
  "metadata": {
    "colab": {
      "name": "week02_linked_list.ipynb",
      "provenance": [],
      "collapsed_sections": [],
      "include_colab_link": true
    },
    "kernelspec": {
      "name": "python3",
      "display_name": "Python 3"
    }
  },
  "cells": [
    {
      "cell_type": "markdown",
      "metadata": {
        "id": "view-in-github",
        "colab_type": "text"
      },
      "source": [
        "<a href=\"https://colab.research.google.com/github/GoldK11/AlgorithmsSKKU/blob/master/week02_linked_list.ipynb\" target=\"_parent\"><img src=\"https://colab.research.google.com/assets/colab-badge.svg\" alt=\"Open In Colab\"/></a>"
      ]
    },
    {
      "cell_type": "code",
      "metadata": {
        "id": "XK0TrPKW8m8x",
        "colab": {
          "base_uri": "https://localhost:8080/",
          "height": 143
        },
        "outputId": "a07372c7-6422-44e1-9e7b-99f55c9a52d6"
      },
      "source": [
        "class Node:\n",
        "    \n",
        "    def __init__(self, value):\n",
        "        self.value = value\n",
        "        self.next = None\n",
        "\n",
        "\n",
        "class LinkedList:\n",
        "    \n",
        "    def __init__(self):\n",
        "        self.head = None\n",
        "\n",
        "    def add_last(self, item):\n",
        "        # Add a value in the end of the list\n",
        "        new_node = Node(item)\n",
        "        \n",
        "        if self.is_empty():\n",
        "            self.head = new_node\n",
        "            \n",
        "        else:\n",
        "            start_node = self.head\n",
        "            while start_node.next:\n",
        "                start_node = start_node.next\n",
        "                \n",
        "            start_node.next = new_node\n",
        "\n",
        "            \n",
        "    def add_first(self, item):\n",
        "        ## Completed Function - Do not remove\n",
        "        # Add a value in the begin of the list\n",
        "        new_node = Node(item)\n",
        "        \n",
        "        if not self.is_empty():\n",
        "            new_node.next = self.head\n",
        "\n",
        "        self.head = new_node\n",
        "        \n",
        "\n",
        "    def add(self, pos, item):\n",
        "        # Add a value in the 'pos' position of the list\n",
        "        # Ex.   linked list values>  3 -> 7 -> 4\n",
        "        #       >>> add(2, 5)\n",
        "        #       linked list values>  3 -> 5 -> 7 -> 4\n",
        "\n",
        "        \n",
        "        if pos < 0 or pos > self.get_length()+1:\n",
        "            print(\"list position out of range !!\")\n",
        "        \n",
        "        else:\n",
        "            new_node = Node(item)\n",
        "            start_node = self.head\n",
        "            \n",
        "            if pos == 1:\n",
        "                self.head = new_node\n",
        "                new_node.next = start_node\n",
        "            \n",
        "            else:\n",
        "                for i in range(1,pos-1):\n",
        "                    start_node = start_node.next\n",
        "        \n",
        "                new_node.next = start_node.next\n",
        "                start_node.next = new_node\n",
        "    \n",
        "    \n",
        "    def delete_last(self):\n",
        "        # Delete a value in the end of the list\n",
        "        if self.is_empty():\n",
        "            print(\"linked list is empty !!\")\n",
        "            \n",
        "        elif not self.head.next:\n",
        "            self.head = None\n",
        "            \n",
        "        else:\n",
        "            start_node = self.head\n",
        "            prev_node = None\n",
        "            \n",
        "            while start_node.next:\n",
        "                prev_node = start_node\n",
        "                start_node = start_node.next\n",
        "            \n",
        "            \n",
        "            prev_node.next=None \n",
        "        \n",
        "        \n",
        "    \n",
        "    def delete_first(self):\n",
        "        ## Completed Function - Do not remove\n",
        "        # Delete a value in the begin of the list\n",
        "        if self.is_empty():\n",
        "            print(\"linked list is empty !!\")\n",
        "        \n",
        "        else:\n",
        "            start_node = self.head\n",
        "            self.head = start_node.next\n",
        "\n",
        "        \n",
        "    def display(self):\n",
        "        ## Completed Function - Do not remove\n",
        "        # Display value(s) of the list\n",
        "        if self.is_empty():\n",
        "            print(\"linked list is empty !!\")\n",
        "            \n",
        "        else:\n",
        "            values = []\n",
        "\n",
        "            start_node = self.head\n",
        "            while start_node:\n",
        "                values.append(start_node.value)\n",
        "                start_node = start_node.next\n",
        "\n",
        "            print(\"linked list values> \", ' -> '.join(map(str,values)))\n",
        "            \n",
        "            \n",
        "    def get_length(self):\n",
        "        # Get length of the list\n",
        "        length = 0\n",
        "        \n",
        "        start_node = self.head\n",
        "        while start_node:\n",
        "            length += 1\n",
        "            start_node = start_node.next\n",
        "            \n",
        "        return length\n",
        "\n",
        "\n",
        "    def is_empty(self):\n",
        "        ## Completed Function - Do not remove\n",
        "        # Check if the list is empty\n",
        "        return True if not self.head else False\n",
        "    \n",
        "def main():\n",
        "    \n",
        "    linked_list = LinkedList()\n",
        "    \n",
        "    linked_list.add_last(3)\n",
        "    linked_list.add_last(7) \n",
        "    linked_list.add_last(4) \n",
        "    linked_list.display() # Expected Result: linked list values>  3 -> 7 -> 4\n",
        "    \n",
        "\n",
        "    linked_list.add_first(1)\n",
        "    linked_list.add_first(2)\n",
        "    linked_list.display() # Expected Result: linked list values>  2 -> 1 -> 3 -> 7 -> 4\n",
        "\n",
        "    linked_list.add(7, 100) # Expected Result: list position out of range !!\n",
        "    \n",
        "    linked_list.add(3, 100)\n",
        "    linked_list.display() # Expected Result: linked list values>  2 -> 1 -> 100 -> 3 -> 7 -> 4\n",
        "    \n",
        "    linked_list.delete_first()\n",
        "    linked_list.delete_last()\n",
        "    linked_list.display() # Expected Result: linked list values>  1 -> 100 -> 3 -> 7\n",
        "    \n",
        "    linked_list.delete_first()\n",
        "    linked_list.delete_last()\n",
        "    linked_list.delete_first()\n",
        "    linked_list.display() # Expected Result: linked list values>  3\n",
        "    \n",
        "    linked_list.delete_last()\n",
        "    linked_list.display() # Expected Result: linked list is empty !!\n",
        "    \n",
        "        \n",
        "if __name__ == \"__main__\":\n",
        "    main()"
      ],
      "execution_count": null,
      "outputs": [
        {
          "output_type": "stream",
          "text": [
            "linked list values>  3 -> 7 -> 4\n",
            "linked list values>  2 -> 1 -> 3 -> 7 -> 4\n",
            "list position out of range !!\n",
            "linked list values>  2 -> 1 -> 100 -> 3 -> 7 -> 4\n",
            "linked list values>  1 -> 100 -> 3 -> 7\n",
            "linked list values>  3\n",
            "linked list is empty !!\n"
          ],
          "name": "stdout"
        }
      ]
    },
    {
      "cell_type": "code",
      "metadata": {
        "id": "eNfzpB5v8rFg"
      },
      "source": [
        "for i in range(2,2):\n",
        "  print(\"d\")"
      ],
      "execution_count": null,
      "outputs": []
    },
    {
      "cell_type": "code",
      "metadata": {
        "id": "OB3MtQy24RF-",
        "colab": {
          "base_uri": "https://localhost:8080/",
          "height": 53
        },
        "outputId": "a94b3efe-fb5e-4e98-bd06-ddeea85dc14f"
      },
      "source": [
        "for i in range(0,2):\n",
        "  print(\"d\")"
      ],
      "execution_count": null,
      "outputs": [
        {
          "output_type": "stream",
          "text": [
            "d\n",
            "d\n"
          ],
          "name": "stdout"
        }
      ]
    },
    {
      "cell_type": "code",
      "metadata": {
        "id": "qg2_bKq94UiM"
      },
      "source": [
        ""
      ],
      "execution_count": null,
      "outputs": []
    }
  ]
}