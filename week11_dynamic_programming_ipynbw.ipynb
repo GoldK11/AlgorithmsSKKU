{
  "nbformat": 4,
  "nbformat_minor": 0,
  "metadata": {
    "colab": {
      "name": "week11_dynamic_programming.ipynbw",
      "provenance": [],
      "collapsed_sections": [],
      "include_colab_link": true
    },
    "kernelspec": {
      "name": "python3",
      "display_name": "Python 3"
    }
  },
  "cells": [
    {
      "cell_type": "markdown",
      "metadata": {
        "id": "view-in-github",
        "colab_type": "text"
      },
      "source": [
        "<a href=\"https://colab.research.google.com/github/GoldK11/AlgorithmsSKKU/blob/master/week11_dynamic_programming_ipynbw.ipynb\" target=\"_parent\"><img src=\"https://colab.research.google.com/assets/colab-badge.svg\" alt=\"Open In Colab\"/></a>"
      ]
    },
    {
      "cell_type": "code",
      "metadata": {
        "id": "iwReY8Z-ZC5Y",
        "colab": {
          "base_uri": "https://localhost:8080/",
          "height": 53
        },
        "outputId": "a1fc1b76-28bf-470d-83c8-f12479147bd2"
      },
      "source": [
        "S = [5, 2, 3, 4, 6] \n",
        "\n",
        "def matrix_chain(S):\n",
        "    size = len(S) - 1\n",
        "    \n",
        "    # Step 1. initialize for memoization\n",
        "    cache = [[-1] * size for _ in range(size)]\n",
        "    for i in range(size):\n",
        "        cache[i][i] = 0\n",
        "\n",
        "    # Step 2. calculate the minimum number of operations\n",
        "    for b in range(1, size):\n",
        "        # b = j - i is the length of the problem, \n",
        "        for i in range(0, size - b):\n",
        "            j = b + i \n",
        "            cache[i][j] = float('inf')\n",
        "            for k in range(i, j):\n",
        "                cache[i][j] = min(cache[i][j], cache[i][k] + cache[k+1][j] + (S[i] * S[k+1] * S[j+1]))\n",
        "\n",
        "    print(cache)\n",
        "    \n",
        "    return cache[0][size-1]           \n",
        "\n",
        "print(\"The minimum number of operations =\", matrix_chain(S))"
      ],
      "execution_count": null,
      "outputs": [
        {
          "output_type": "stream",
          "text": [
            "[[0, 30, 64, 132], [-1, 0, 24, 72], [-1, -1, 0, 72], [-1, -1, -1, 0]]\n",
            "The minimum number of operations = 132\n"
          ],
          "name": "stdout"
        }
      ]
    },
    {
      "cell_type": "markdown",
      "metadata": {
        "id": "ondvM4bWNM9L"
      },
      "source": [
        "1.   [0, 30, 64, 132]\n",
        "2.   [-1, 0, 24, 72]\n",
        "3.   [-1, -1, 0, 72],\n",
        "4.   [-1, -1, -1, 0]\n",
        "\n"
      ]
    },
    {
      "cell_type": "markdown",
      "metadata": {
        "id": "_9miBdbpnuSv"
      },
      "source": [
        "**Answer**"
      ]
    },
    {
      "cell_type": "code",
      "metadata": {
        "id": "DMlvWHLubaeO",
        "colab": {
          "base_uri": "https://localhost:8080/",
          "height": 53
        },
        "outputId": "1f73f85f-9364-4641-bd28-e8df433054d3"
      },
      "source": [
        "S = [5, 2, 3, 4, 6] \n",
        "\n",
        "def matrix_chain(S):\n",
        "    size = len(S) - 1\n",
        "    \n",
        "    # Step 1. initialize for memoization\n",
        "    cache = [[0] * size for _ in range(size)]\n",
        "    for i in range(size):\n",
        "        cache[i][i] = 0\n",
        "\n",
        "    # Step 2. calculate the minimum number of operations\n",
        "    for b in range(1, size):\n",
        "        # b = j - i is the length of the problem, \n",
        "        for i in range(0, size - b):\n",
        "            j = b + i \n",
        "            cache[i][j] = float('inf')\n",
        "            for k in range(i, j):\n",
        "                cache[i][j] = min(cache[i][j], cache[i][k] + cache[k+1][j] + (S[i] * S[k+1] * S[j+1]))\n",
        "    print(cache)\n",
        "    return cache[0][size-1]           \n",
        "\n",
        "print(\"The minimum number of operations =\", matrix_chain(S))"
      ],
      "execution_count": null,
      "outputs": [
        {
          "output_type": "stream",
          "text": [
            "[[0, 30, 64, 132], [0, 0, 24, 72], [0, 0, 0, 72], [0, 0, 0, 0]]\n",
            "The minimum number of operations = 132\n"
          ],
          "name": "stdout"
        }
      ]
    }
  ]
}