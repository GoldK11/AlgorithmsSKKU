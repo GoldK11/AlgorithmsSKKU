{
  "nbformat": 4,
  "nbformat_minor": 0,
  "metadata": {
    "colab": {
      "name": "week12_dp_hamster_run.ipynb",
      "provenance": [],
      "collapsed_sections": [],
      "include_colab_link": true
    },
    "kernelspec": {
      "name": "python3",
      "display_name": "Python 3"
    }
  },
  "cells": [
    {
      "cell_type": "markdown",
      "metadata": {
        "id": "view-in-github",
        "colab_type": "text"
      },
      "source": [
        "<a href=\"https://colab.research.google.com/github/GoldK11/AlgorithmsSKKU/blob/master/week12_dp_hamster_run.ipynb\" target=\"_parent\"><img src=\"https://colab.research.google.com/assets/colab-badge.svg\" alt=\"Open In Colab\"/></a>"
      ]
    },
    {
      "cell_type": "code",
      "metadata": {
        "id": "a3UG56ILa9YP",
        "colab": {
          "base_uri": "https://localhost:8080/",
          "height": 71
        },
        "outputId": "6b64ad4f-0300-46ed-876d-f7e8bcb812d9"
      },
      "source": [
        "def hamster_run(n): \n",
        "\n",
        "  arr = [0]*n\n",
        "  \n",
        "  for i in range(1,len(arr)+1):\n",
        "    #n = (len(arr)//i) if 1 !=(len(arr)//i) else  (len(arr)//i)+1 \n",
        "    # print(n)\n",
        "    for j in range(1,(len(arr)//i)+1):\n",
        "      # print(i,j,end=\", \")\n",
        "      if(arr[i*j-1]==1): arr[i*j-1]=0\n",
        "      else:  arr[i*j-1]=1\n",
        "\n",
        "  for i in range(n-1):\n",
        "    arr[i+1] += arr[i]\n",
        "  \n",
        "  return arr[n-1] \n",
        "\n",
        "\n",
        "print(hamster_run(5))\n",
        "print(hamster_run(56))\n",
        "print(hamster_run(33))"
      ],
      "execution_count": null,
      "outputs": [
        {
          "output_type": "stream",
          "text": [
            "2\n",
            "7\n",
            "5\n"
          ],
          "name": "stdout"
        }
      ]
    },
    {
      "cell_type": "markdown",
      "metadata": {
        "id": "wBmJQuOeXcx4"
      },
      "source": [
        "**answer**"
      ]
    },
    {
      "cell_type": "code",
      "metadata": {
        "id": "gBZYvyv0XeSM",
        "colab": {
          "base_uri": "https://localhost:8080/",
          "height": 71
        },
        "outputId": "4396dc28-93c9-4bfe-93b3-507c1e045f26"
      },
      "source": [
        "def hamster_run(n):\n",
        "\tarr = [0 for _ in range(n)]\n",
        "\n",
        "\tfor r in range(1, n+1): # round\n",
        "\n",
        "\t\tfor i in range(1, n//r+1): # array\n",
        "\t\t\t\n",
        "\t\t\tif arr[r*i-1] == 1:\n",
        "\t\t\t\tarr[r*i-1] = 0\n",
        "\t\t\telse:\n",
        "\t\t\t\tarr[r*i-1] = 1\n",
        "\n",
        "\tfor i in range(n-1):\n",
        "\t\tarr[i+1] += arr[i]\n",
        "\n",
        "\treturn arr[n-1]\n",
        "\n",
        "print(hamster_run(5))\n",
        "print(hamster_run(56))\n",
        "print(hamster_run(33))"
      ],
      "execution_count": null,
      "outputs": [
        {
          "output_type": "stream",
          "text": [
            "2\n",
            "7\n",
            "5\n"
          ],
          "name": "stdout"
        }
      ]
    }
  ]
}